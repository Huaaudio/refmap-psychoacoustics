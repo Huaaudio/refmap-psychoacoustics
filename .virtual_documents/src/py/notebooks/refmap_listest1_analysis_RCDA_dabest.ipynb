


# import packages
import sys
import os
import numpy as np
import pandas as pd
from PyQt5.QtWidgets import QFileDialog, QApplication
from scipy import stats
import matplotlib as mpl
from matplotlib import pyplot as plt
import seaborn as sns
import dabest
import warnings

# Suppress FutureWarning messages to quiet pandas
warnings.simplefilter(action='ignore', category=FutureWarning)



# set plot parameters
sns.set_style('white')
mpl.rcParams['font.family'] = 'serif'
mpl.rcParams['font.serif'] = 'Times New Roman'
mpl.rcParams.update({'font.size': 16})
mpl.rcParams['figure.autolayout'] = True
mpl.rcParams['mathtext.fontset'] = 'stix'

SMALL_SIZE = 9
MEDIUM_SIZE = 12
BIGGER_SIZE = 16

plt.rc('font', size=SMALL_SIZE)          # controls default text sizes
plt.rc('axes', titlesize=SMALL_SIZE,
       labelsize=MEDIUM_SIZE)    # fontsize of the axes title and x and y labels
plt.rc('xtick', labelsize=SMALL_SIZE)    # fontsize of the tick labels
plt.rc('ytick', labelsize=SMALL_SIZE)    # fontsize of the tick labels
plt.rc('legend', fontsize=SMALL_SIZE)    # legend fontsize
plt.rc('figure', titlesize=BIGGER_SIZE)  # fontsize of the figure title

mycolours = [(0, 102, 255), (0, 204, 153), (255, 0, 102), (74, 111, 152),
             (251, 164, 49), (204, 153, 255), (90, 192, 255), (80, 245, 233),
             (255, 90, 192), (164, 201, 242), (255, 254, 139), (255, 243, 255)]
mycolours = [tuple(shade/255 for shade in colour) for colour in mycolours]

np.random.seed(303)

# enable copy-on-write mode for Pandas (will be default from Pandas 3.0)
pd.options.mode.copy_on_write = True

# check/open QApplication instance
if not QApplication.instance():
    app = QApplication(sys.argv)
else:
    app = QApplication.instance() 






saveplots = False

if saveplots:
    # select figure output save path
    outFigPath = QFileDialog.getExistingDirectory(caption=r"Select output folder to save plots")






# import test data
fileExts = "*.csv"

# Part A
dataBySubjAFilePath = list(QFileDialog.getOpenFileName(filter="refmap_listest1_testdataA_BySubj.csv",
                                                       caption=r"Open refmap_listest1_testdataA_BySubj.csv in: \03 Experiment\Experiment 1\Analysis\PostProcess"))[0]
dataBySubjTestA = pd.read_csv(dataBySubjAFilePath, index_col=0)

# Part B
dataBySubjBFilePath = list(QFileDialog.getOpenFileName(filter="refmap_listest1_testdataB_BySubj.csv",
                                                       caption=r"Open refmap_listest1_testdataB_BySubj.csv in: \03 Experiment\Experiment 1\Analysis\PostProcess"))[0]
dataBySubjTestB = pd.read_csv(dataBySubjBFilePath, index_col=0)

# Both parts
dataBySubjFilePath = list(QFileDialog.getOpenFileName(filter="refmap_listest1_testdata_BySubj.csv",
                                                       caption=r"Open refmap_listest1_testdata_BySubj.csv in: \03 Experiment\Experiment 1\Analysis\PostProcess"))[0]
dataBySubjTest = pd.read_csv(dataBySubjFilePath, index_col=0)



# categorise columns

for dataset in [dataBySubjTestA]:
    dataset['AmbientEnv'] = pd.Categorical(dataset['AmbientEnv'], ["Park", "Street"])
    dataset['SNRlevel'] = pd.Categorical(dataset['SNRlevel'], ["No UAS", "-16", "-10", "-4", "2", "8"], ordered=True)
    dataset['UASLAeq'] = pd.Categorical(dataset['UASLAeq'], ["No UAS", "42", "48", "54", "60"], ordered=True)
    dataset['UASOperation'] = pd.Categorical(dataset['UASOperation'], ["No UAS", "Flyby", "Landing", "Takeoff"])
    dataset['UASType'] = pd.Categorical(dataset['UASType'], ["No UAS", "H520", "M300", "T150"])

for dataset in [dataBySubjTestB]:
    dataset['AmbientEnv'] = pd.Categorical(dataset['AmbientEnv'], ["Park", "Street"])
    dataset['SNRlevel'] = pd.Categorical(dataset['SNRlevel'], ["No UAS", "2", "8"], ordered=True)
    dataset['UASLAeq'] = pd.Categorical(dataset['UASLAeq'], ["No UAS", "54", "60"], ordered=True)
    dataset['UASOperation'] = pd.Categorical(dataset['UASOperation'], ["No UAS", "Flyby"])
    dataset['UASType'] = pd.Categorical(dataset['UASType'], ["No UAS", "H520", "T150"])

for dataset in [dataBySubjTest]:
    dataset['AmbientEnv'] = pd.Categorical(dataset['AmbientEnv'], ["Park", "Street"])
    dataset['SNRlevel'] = pd.Categorical(dataset['SNRlevel'], ["No UAS", "-16", "-10", "-4", "2", "8"], ordered=True)
    dataset['UASLAeq'] = pd.Categorical(dataset['UASLAeq'], ["No UAS", "42", "48", "54", "60"], ordered=True)
    dataset['UASOperation'] = pd.Categorical(dataset['UASOperation'], ["No UAS", "Flyby", "Landing", "Takeoff"])
    dataset['UASType'] = pd.Categorical(dataset['UASType'], ["No UAS", "H520", "M300", "T150"])






# select subset of data for analysis and sort
data = dataBySubjTestA[dataBySubjTestA['Recording'].str.contains("_F_2")]
data = data.loc[:, ['ID#', 'StimFile', 'AmbientEnv', 'Annoyance']]
data.sort_values(by=['ID#', 'StimFile'], inplace=True)

# add column to indicate modelled or scaled, and create a dummy pairing ID
data['LvlType'] = "Modelled"
data.loc[data['StimFile'].str.contains("PwrScale"), 'LvlType'] = "Scaled"
data['dummyID'] = np.repeat(np.arange(1, len(data['ID#'])//len(data['LvlType'].unique()) + 1, dtype=int), len(data['LvlType'].unique()), axis=0)




# assign data for processing
dataloadBL = dabest.load(data=data, idx=("Modelled", "Scaled"), x='LvlType', y='Annoyance', paired='baseline',
                         id_col='dummyID', resamples=5000, random_seed=303)



# calculate effect sizes and plot
fig, ax = plt.subplots(figsize=(9, 5))
dataMD = dataloadBL.mean_diff.plot(swarm_ylim=(0, 10), color_col='AmbientEnv',
                                   contrast_show_deltas=False, slopegraph_kwargs={'linewidth': 0.25, 'alpha': 0.4},
                                   contrast_show_es=True, es_sf=3,
                                   custom_palette=mycolours[1:3], es_marker_size=4, contrast_ylim=(-2, 2),
                                   legend_kwargs={'loc': 'lower center'}, ax=ax)
if saveplots:
    plt.savefig(os.path.join(outFigPath, "PtALvlScaleDabest.svg"),
                format='svg', bbox_inches='tight')
dataMD;



# calculate and display Cohen's d
dataloadBL.cohens_d.statistical_tests







# select subset of data for analysis and sort
data = dataBySubjTestA[~dataBySubjTestA['Recording'].str.contains("PwrScale")]
data = data[data['UASLAeq'] != "No UAS"]
data = data.loc[:, ['ID#', 'StimFile', 'AmbientEnv', 'UASLAeq', 'UASType', 'UASOperation', 'Annoyance']]
data.sort_values(by=['ID#', 'AmbientEnv', 'UASOperation', 'UASType', 'UASLAeq'], inplace=True)

dataPk = data.loc[data['AmbientEnv'] == "Park", :]
dataSt = data.loc[data['AmbientEnv'] == "Street", :]

# create a dummy pairing ID
dataPk['dummyID'] = np.repeat(np.arange(1, len(dataPk['ID#'])//len(dataPk['UASLAeq'].unique()) + 1, dtype=int), len(dataPk['UASLAeq'].unique()), axis=0)
dataSt['dummyID'] = np.repeat(np.arange(1, len(dataSt['ID#'])//len(dataSt['UASLAeq'].unique()) + 1, dtype=int), len(dataSt['UASLAeq'].unique()), axis=0)



# assign data for processing
dataPkloadSQ = dabest.load(data=dataPk, idx=("42", "48", "54", "60"), x='UASLAeq', y='Annoyance', paired='sequential',
                           id_col='dummyID', resamples=5000, random_seed=303)
dataStloadSQ = dabest.load(data=dataSt, idx=("42", "48", "54", "60"), x='UASLAeq', y='Annoyance', paired='sequential',
                           id_col='dummyID', resamples=5000, random_seed=808)


# calculate effect sizes and plot
fig, ax = plt.subplots(figsize=(7, 3.5))
dataPkMD = dataPkloadSQ.mean_diff.plot(swarm_ylim=(0, 10), color_col='UASType',
                                       contrast_show_deltas=False, slopegraph_kwargs={'linewidth': 0.25, 'alpha': 0.4},
                                       custom_palette=mycolours, es_marker_size=4, contrast_ylim=(-0.25, 1.75), float_contrast=True,
                                       contrast_show_es=True, es_sf=3,
                                       legend_kwargs={'loc': 'upper center', 'title': r"UAS type", 'fontsize': 12,
                                                      'frameon': True, 'title_fontsize': 12}, ax=ax)
diffs = np.round(dataPkloadSQ.mean_diff.statistical_tests[['difference', 'bca_low', 'bca_high']].values, 3)
# label results
for ii, diffrow in enumerate(diffs):
    #ax.text(x=0.8 + ii, y=-3.4, s=" " + str(diffrow[0]), fontsize=10)
    ax.text(x=0.7 + ii, y=-4.1, s="95%: " + str(diffrow[1:]), fontsize=10)

if saveplots:
    plt.savefig(os.path.join(outFigPath, "PtALAeqParkDabest.svg"),
                format='svg', bbox_inches='tight')
dataPkMD;


# calculate effect sizes - Cohen's d
dataPkloadSQ.cohens_d.statistical_tests



# calculate effect sizes - Cohen's d
dataPkloadSQ.cohens_d.statistical_tests['pvalue_permutation']



# calculate effect sizes and plot
fig, ax = plt.subplots(figsize=(7, 3.5))
dataStMD = dataStloadSQ.mean_diff.plot(swarm_ylim=(0, 10), color_col='UASType',
                                       contrast_show_deltas=False, slopegraph_kwargs={'linewidth': 0.25, 'alpha': 0.4},
                                       custom_palette=mycolours, es_marker_size=4, contrast_ylim=(-0.25, 1.75), float_contrast=True,
                                       contrast_show_es=True, es_sf=3,
                                       legend_kwargs={'loc': 'upper center', 'title': r"UAS type", 'fontsize': 12,
                                                      'frameon': True, 'title_fontsize': 12}, ax=ax)
diffs = np.round(dataStloadSQ.mean_diff.statistical_tests[['difference', 'bca_low', 'bca_high']].values, 3)
# label results
for ii, diffrow in enumerate(diffs):
    #ax.text(x=0.8 + ii, y=-3.4, s=" " + str(diffrow[0]), fontsize=10)
    ax.text(x=0.7 + ii, y=-4.1, s="95%: " + str(diffrow[1:]), fontsize=10)

if saveplots:
    plt.savefig(os.path.join(outFigPath, "PtALAeqStreetDabest.svg"),
                format='svg', bbox_inches='tight')
dataStMD;


# calculate effect sizes - Cohen's d
dataStloadSQ.cohens_d.statistical_tests






# select subset of data for analysis and sort
data = dataBySubjTestA[~dataBySubjTestA['Recording'].str.contains("PwrScale")]
data = data[data['UASType'] != "No UAS"]
data = data.loc[:, ['ID#', 'StimFile', 'AmbientEnv', 'UASLAeq', 'UASType', 'UASOperation', 'Annoyance']]
data.sort_values(by=['ID#', 'UASLAeq', 'UASOperation', 'UASType', 'AmbientEnv'], inplace=True)

dataPk = data.loc[data['AmbientEnv'] == "Park", :]
dataSt = data.loc[data['AmbientEnv'] == "Street", :]

# create a dummy pairing ID
dataPk['dummyID'] = np.repeat(np.arange(1, len(dataPk['ID#'])//len(dataPk['UASType'].unique()) + 1, dtype=int), len(dataPk['UASType'].unique()), axis=0)
dataSt['dummyID'] = np.repeat(np.arange(1, len(dataSt['ID#'])//len(dataSt['UASType'].unique()) + 1, dtype=int), len(dataSt['UASType'].unique()), axis=0)



# assign data for processing
dataPkloadBL = dabest.load(data=dataPk, idx=("H520", "M300", "T150"), x='UASType', y='Annoyance', paired='baseline',
                           id_col='dummyID', resamples=5000, random_seed=808)
dataStloadBL = dabest.load(data=dataSt, idx=("H520", "M300", "T150"), x='UASType', y='Annoyance', paired='baseline',
                           id_col='dummyID', resamples=5000, random_seed=808)



# calculate effect sizes and plot
fig, ax = plt.subplots(figsize=(6, 3.5))
dataPkMD = dataPkloadBL.mean_diff.plot(swarm_ylim=(0, 10), color_col='UASLAeq',
                                       contrast_show_deltas=False, slopegraph_kwargs={'linewidth': 0.25, 'alpha': 0.4},
                                       custom_palette=mycolours, es_marker_size=4, contrast_ylim=(-2, 0.5), float_contrast=True,
                                       contrast_show_es=True, es_sf=3,
                                       legend_kwargs={'loc': 'upper center', 'title': r"UAS $L_\mathrm{Aeq}$", 'fontsize': 12,
                                                      'frameon': True, 'title_fontsize': 12}, ax=ax)
diffs = dataPkloadBL.mean_diff.statistical_tests[['difference', 'bca_low', 'bca_high']].values
# label results
for ii, diffrow in enumerate(np.round(diffs, 3)):
    #ax.text(x=0.8 + ii, y=-3.4, s=" " + str(diffrow[0]), fontsize=10)
    ax.text(x=0.7 + ii, y=-4.1, s="95%: " + str(diffrow[1:]), fontsize=10)

if saveplots:
    plt.savefig(os.path.join(outFigPath, "PtATypeParkDabest.svg"),
                format='svg', bbox_inches='tight')
dataPkMD;


# calculate effect sizes - Cohen's d
dataPkloadBL.cohens_d.statistical_tests



# calculate effect sizes and plot
fig, ax = plt.subplots(figsize=(6, 3.5))
dataStMD = dataStloadBL.mean_diff.plot(swarm_ylim=(0, 10), color_col='UASLAeq',
                                       contrast_show_deltas=False, slopegraph_kwargs={'linewidth': 0.25, 'alpha': 0.4},
                                       custom_palette=mycolours, es_marker_size=4, contrast_ylim=(-2, 0.5), float_contrast=True,
                                       contrast_show_es=True, es_sf=3,
                                       legend_kwargs={'loc': 'upper center', 'title': r"UAS $L_\mathrm{Aeq}$", 'fontsize': 12,
                                                      'frameon': True, 'title_fontsize': 12}, ax=ax)

diffs = np.round(dataStloadBL.mean_diff.statistical_tests[['difference', 'bca_low', 'bca_high']].values, 3)
# label results
for ii, diffrow in enumerate(diffs):
    #ax.text(x=0.8 + ii, y=-9.2, s=" " + str(diffrow[0]), fontsize=10)
    ax.text(x=0.7 + ii, y=-9.9, s="95% : " + str(diffrow[1:]), fontsize=10)

if saveplots:
    plt.savefig(os.path.join(outFigPath, "PtATypeStreetDabest.svg"),
                format='svg', bbox_inches='tight')
dataStMD;


# calculate effect sizes - Cohen's d
dataStloadBL.cohens_d.statistical_tests



# assign data for processing
dataPkHiloadBL = dabest.load(data=dataPk.loc[dataPk['UASLAeq'] == '60'], idx=("H520", "M300", "T150"), x='UASType', y='Annoyance', paired='baseline',
                             id_col='dummyID', resamples=5000, random_seed=12345)
dataStHiloadBL = dabest.load(data=dataSt.loc[dataSt['UASLAeq'] == '60'], idx=("H520", "M300", "T150"), x='UASType', y='Annoyance', paired='baseline',
                             id_col='dummyID', resamples=5000, random_seed=999)



# calculate effect sizes and plot
fig, ax = plt.subplots(figsize=(6, 3.5))
dataPkHiMD = dataPkHiloadBL.mean_diff.plot(swarm_ylim=(0, 10), color_col='UASLAeq',
                                           contrast_show_deltas=False, slopegraph_kwargs={'linewidth': 0.25, 'alpha': 0.4},
                                           custom_palette=mycolours[3:], es_marker_size=4, contrast_ylim=(-2, 0.5), float_contrast=True,
                                           contrast_show_es=True, es_sf=3,                                           
                                           legend_kwargs={'loc': 'upper center', 'title': r"UAS $L_\mathrm{Aeq}$", 'fontsize': 12,
                                                          'frameon': True, 'title_fontsize': 12}, ax=ax)
diffs = np.round(dataPkHiloadBL.mean_diff.statistical_tests[['difference', 'bca_low', 'bca_high']].values, 3)
# label results
for ii, diffrow in enumerate(diffs):
    #ax.text(x=0.8 + ii, y=-3.4, s=" " + str(diffrow[0]), fontsize=10)
    ax.text(x=0.7 + ii, y=-4.1, s="95% : " + str(diffrow[1:]), fontsize=10)

if saveplots:
    plt.savefig(os.path.join(outFigPath, "PtATypeParkHiDabest.svg"),
                format='svg', bbox_inches='tight')
dataPkHiMD;


# calculate effect sizes - Cohen's d
dataPkHiloadBL.cohens_d.statistical_tests



# calculate effect sizes and plot
fig, ax = plt.subplots(figsize=(6, 3.5))
dataStHiMD = dataStHiloadBL.mean_diff.plot(swarm_ylim=(0, 10), color_col='UASLAeq',
                                           contrast_show_deltas=False, slopegraph_kwargs={'linewidth': 0.25, 'alpha': 0.4},
                                           custom_palette=mycolours[3:], es_marker_size=4, contrast_ylim=(-2, 0.5), float_contrast=True,
                                           contrast_show_es=True, es_sf=3,
                                           legend_kwargs={'loc': 'upper center', 'title': r"UAS $L_\mathrm{Aeq}$", 'fontsize': 12,
                                                          'frameon': True, 'title_fontsize': 12}, ax=ax)
diffs = np.round(dataStHiloadBL.mean_diff.statistical_tests[['difference', 'bca_low', 'bca_high']].values, 3)
# label results
for ii, diffrow in enumerate(diffs):
    #ax.text(x=0.8 + ii, y=-10.2, s=" " + str(diffrow[0]), fontsize=10)
    ax.text(x=0.7 + ii, y=-10.9, s="95% : " + str(diffrow[1:]), fontsize=10)

if saveplots:
    plt.savefig(os.path.join(outFigPath, "PtATypeStreetHiDabest.svg"),
                format='svg', bbox_inches='tight')
dataStHiMD;


# calculate effect sizes - Cohen's d
dataStHiloadBL.cohens_d.statistical_tests






# select subset of data for analysis and sort
data = dataBySubjTestA[~dataBySubjTestA['Recording'].str.contains("PwrScale")]
data = data[data['UASType'] != "No UAS"]
data = data.loc[:, ['ID#', 'StimFile', 'AmbientEnv', 'UASLAeq', 'UASType', 'UASOperation', 'Annoyance']]
data.sort_values(by=['ID#', 'UASLAeq', 'UASType', 'AmbientEnv', 'UASOperation'], inplace=True)

dataPk = data.loc[data['AmbientEnv'] == "Park", :]
dataSt = data.loc[data['AmbientEnv'] == "Street", :]

# create a dummy pairing ID
data['dummyID'] = np.repeat(np.arange(1, len(data['ID#'])//len(data['UASOperation'].unique()) + 1, dtype=int), len(data['UASOperation'].unique()), axis=0)
dataPk['dummyID'] = np.repeat(np.arange(1, len(dataPk['ID#'])//len(dataPk['UASOperation'].unique()) + 1, dtype=int), len(dataPk['UASOperation'].unique()), axis=0)
dataSt['dummyID'] = np.repeat(np.arange(1, len(dataSt['ID#'])//len(dataSt['UASOperation'].unique()) + 1, dtype=int), len(dataSt['UASOperation'].unique()), axis=0)



# assign data for processing
dataloadBL = dabest.load(data=data, idx=("Flyby", "Landing", "Takeoff"), x='UASOperation', y='Annoyance',
                         paired='baseline', id_col='dummyID', resamples=5000, random_seed=35941)
dataPkloadBL = dabest.load(data=dataPk, idx=("Flyby", "Landing", "Takeoff"), x='UASOperation', y='Annoyance',
                           paired='baseline', id_col='dummyID', resamples=5000, random_seed=4444)
dataStloadBL = dabest.load(data=dataSt, idx=("Flyby", "Landing", "Takeoff"), x='UASOperation', y='Annoyance',
                           paired='baseline', id_col='dummyID', resamples=5000, random_seed=6564)



# calculate effect sizes and plot
fig, ax = plt.subplots(figsize=(6, 3.5))
dataMD = dataloadBL.mean_diff.plot(swarm_ylim=(0, 10), color_col='UASLAeq',
                                   contrast_show_deltas=False, slopegraph_kwargs={'linewidth': 0.25, 'alpha': 0.4},
                                   custom_palette=mycolours, es_marker_size=4, contrast_ylim=(-1, 1.5), float_contrast=True,
                                   contrast_show_es=True, es_sf=3,
                                   legend_kwargs={'loc': 'upper center', 'title': r"UAS $L_\mathrm{Aeq}$", 'fontsize': 12,
                                                  'frameon': True, 'title_fontsize': 12}, ax=ax)
diffs = np.round(dataloadBL.mean_diff.statistical_tests[['difference', 'bca_low', 'bca_high']].values, 3)
# label results
for ii, diffrow in enumerate(diffs):
    #ax.text(x=0.8 + ii, y=-3.4, s=" " + str(diffrow[0]), fontsize=10)
    ax.text(x=0.7 + ii, y=-4.1, s="95% : " + str(diffrow[1:]), fontsize=10)

if saveplots:
    plt.savefig(os.path.join(outFigPath, "PtAOpDabest.svg"),
                format='svg', bbox_inches='tight')
dataMD;


# calculate effect sizes - Cohen's d
dataloadBL.cohens_d.statistical_tests



# calculate effect sizes and plot
fig, ax = plt.subplots(figsize=(6, 3.5))
dataPkMD = dataPkloadBL.mean_diff.plot(swarm_ylim=(0, 10), color_col='UASLAeq',
                                       contrast_show_deltas=False, slopegraph_kwargs={'linewidth': 0.25, 'alpha': 0.4},
                                       custom_palette=mycolours, es_marker_size=4, contrast_ylim=(-1, 1.5), float_contrast=True,
                                       contrast_show_es=True, es_sf=3,
                                       legend_kwargs={'loc': 'upper center', 'title': r"UAS $L_\mathrm{Aeq}$", 'fontsize': 12,
                                                      'frameon': True, 'title_fontsize': 12}, ax=ax)
diffs = np.round(dataPkloadBL.mean_diff.statistical_tests[['difference', 'bca_low', 'bca_high']].values, 3)
# label results
for ii, diffrow in enumerate(diffs):
    #ax.text(x=0.8 + ii, y=-3.4, s=" " + str(diffrow[0]), fontsize=10)
    ax.text(x=0.7 + ii, y=-4.1, s="95% : " + str(diffrow[1:]), fontsize=10)

if saveplots:
    plt.savefig(os.path.join(outFigPath, "PtAOpParkDabest.svg"),
                format='svg', bbox_inches='tight')
dataPkMD;


# calculate effect sizes - Cohen's d
dataPkloadBL.cohens_d.statistical_tests



# calculate effect sizes and plot
fig, ax = plt.subplots(figsize=(6, 3.5))
dataStMD = dataStloadBL.mean_diff.plot(swarm_ylim=(0, 10), color_col='UASLAeq',
                                       contrast_show_deltas=False, slopegraph_kwargs={'linewidth': 0.25, 'alpha': 0.4},
                                       custom_palette=mycolours, es_marker_size=4, contrast_ylim=(-1, 1.5), float_contrast=True,
                                       contrast_show_es=True, es_sf=3,
                                       legend_kwargs={'loc': 'upper center', 'title': r"UAS $L_\mathrm{Aeq}$", 'fontsize': 12,
                                                      'frameon': True, 'title_fontsize': 12}, ax=ax)

diffs = np.round(dataStloadBL.mean_diff.statistical_tests[['difference', 'bca_low', 'bca_high']].values, 3)
# label results
for ii, diffrow in enumerate(diffs):
    #ax.text(x=0.8 + ii, y=-3.4, s=" " + str(diffrow[0]), fontsize=10)
    ax.text(x=0.7 + ii, y=-4.1, s="95% : " + str(diffrow[1:]), fontsize=10)

if saveplots:
    plt.savefig(os.path.join(outFigPath, "PtAOpStreetDabest.svg"),
                format='svg', bbox_inches='tight')
dataStMD;


# calculate effect sizes - Cohen's d
dataStloadBL.cohens_d.statistical_tests



# assign data for processing
dataHiloadBL = dabest.load(data=data.loc[data['UASLAeq'] == '60'], idx=("Flyby", "Landing", "Takeoff"),
                           x='UASOperation', y='Annoyance', paired='baseline',
                           id_col='dummyID', resamples=5000, random_seed=808)



# calculate effect sizes and plot
fig, ax = plt.subplots(figsize=(6, 3.5))
dataHiMD = dataHiloadBL.mean_diff.plot(swarm_ylim=(0, 10), color_col='UASLAeq',
                                       contrast_show_deltas=False, slopegraph_kwargs={'linewidth': 0.25, 'alpha': 0.4},
                                       custom_palette=mycolours[3:], es_marker_size=4, contrast_ylim=(-1, 1.5), float_contrast=True,
                                       contrast_show_es=True, es_sf=3,
                                       legend_kwargs={'loc': 'upper center', 'title': r"UAS $L_\mathrm{Aeq}$", 'fontsize': 12,
                                                      'frameon': True, 'title_fontsize': 12}, ax=ax)
diffs = np.round(dataHiloadBL.mean_diff.statistical_tests[['difference', 'bca_low', 'bca_high']].values, 3)
# label results
for ii, diffrow in enumerate(diffs):
    #ax.text(x=0.8 + ii, y=-10.9, s=" " + str(diffrow[0]), fontsize=10)
    ax.text(x=0.7 + ii, y=-11.6, s="95%: " + str(diffrow[1:]), fontsize=10)

if saveplots:
    plt.savefig(os.path.join(outFigPath, "PtAOpHiDabest.svg"),
                format='svg', bbox_inches='tight')
dataHiMD;


# calculate effect sizes - Cohen's d
dataHiloadBL.cohens_d.statistical_tests






# select subset of data for analysis and sort
data = dataBySubjTestA[~dataBySubjTestA['Recording'].str.contains("PwrScale")]
data = data[data['UASType'] != "No UAS"]
data = data.loc[:, ['ID#', 'StimFile', 'AmbientEnv', 'UASLAeq', 'UASType', 'UASOperation', 'Annoyance']]
data.sort_values(by=['ID#', 'UASLAeq', 'UASType', 'AmbientEnv', 'UASOperation'], inplace=True)

# take highest LAeq in park env
dataPk = data.loc[(data['AmbientEnv'] == "Park"), :]
dataPk['UASTypeOp'] = dataPk['UASType'].astype(str) + " " + dataPk['UASOperation'].astype(str)
dataPk.sort_values(by=['ID#', 'UASLAeq', 'UASTypeOp'], inplace=True)

# create a dummy pairing ID
dataPk['dummyID'] = np.repeat(np.arange(1, len(dataPk['ID#'])//len(dataPk['UASTypeOp'].unique()) + 1, dtype=int), len(dataPk['UASTypeOp'].unique()), axis=0)



# assign data for processing
dataPkloadBL = dabest.load(data=dataPk,  idx=("T150 Flyby", "T150 Landing", "T150 Takeoff",
                                              "M300 Flyby", "M300 Landing", "M300 Takeoff",
                                              "H520 Flyby", "H520 Landing", "H520 Takeoff"), x='UASTypeOp', y='Annoyance',
                           paired='baseline', id_col='dummyID', resamples=5000, random_seed=82108)



# calculate effect sizes and plot
fig, ax = plt.subplots(figsize=(12.5, 3.5))
dataPkMD = dataPkloadBL.mean_diff.plot(swarm_ylim=(0, 10), color_col='UASLAeq',
                                       contrast_show_deltas=False, slopegraph_kwargs={'linewidth': 0.25, 'alpha': 0.4},
                                       custom_palette=mycolours[0:4], es_marker_size=4, contrast_ylim=(-1, 2), float_contrast=True,
                                       contrast_show_es=True, es_sf=3,
                                       legend_kwargs={'loc': 'upper center', 'title': r"UAS $L_\mathrm{Aeq}$", 'fontsize': 12,
                                                      'frameon': True, 'title_fontsize': 12}, ax=ax)
diffs = np.round(dataPkloadBL.mean_diff.statistical_tests[['difference', 'bca_low', 'bca_high']].values, 3)
# label results
for ii, diffrow in enumerate(diffs):
    #ax.text(x=0.8 + ii, y=-3.4, s=" " + str(diffrow[0]), fontsize=10)
    ax.text(x=0.7 + ii, y=-4.1, s="95% : " + str(diffrow[1:]), fontsize=10)

if saveplots:
    plt.savefig(os.path.join(outFigPath, "PtAPkTypeOpDabest.svg"),
                format='svg', bbox_inches='tight')
dataPkMD;


# calculate effect sizes - Cohen's d
dataPkloadBL.cohens_d.statistical_tests






# select subset of data for analysis and sort
data = dataBySubjTestA
data = data[data['UASLAeq'] != "No UAS"]
data = data.loc[:, ['ID#', 'StimFile', 'UASLAeq', 'AAM_attitude', 'Annoyance']]



# assign data for processing
dataloadBL = dabest.load(data=data, idx=['Supportive', 'Ambivalent', 'Concerned', 'Neutral'],
                         x='AAM_attitude', y='Annoyance', resamples=5000, random_seed=3616)



# calculate baseline paired effect sizes and plot
fig, ax = plt.subplots(figsize=(7, 3.5))
dataMD = dataloadBL.mean_diff.plot(swarm_ylim=(0, 10),
                                   raw_marker_size=0.005,
                                   swarmplot_kwargs={'alpha': 0.3},
                                   contrast_show_deltas=False,
                                   contrast_show_es=True, es_sf=3,
                                   custom_palette={'Neutral': mycolours[0],
                                                   'Ambivalent': mycolours[1],
                                                   'Concerned': mycolours[2],
                                                   'Supportive': mycolours[3]},
                                   swarm_desat=1,
                                   halfviolin_desat=1,
                                   bar_desat=1,
                                   es_marker_size=4,
                                   contrast_ylim=(-1, 3),
                                   ax=ax,
                                   )

diffs = np.round(dataloadBL.mean_diff.statistical_tests[['difference', 'bca_low', 'bca_high']].values, 3)
# label results
for ii, diffrow in enumerate(diffs):
    #ax.text(x=0.8 + ii, y=-10.9, s=" " + str(diffrow[0]), fontsize=10)
    ax.text(x=0.7 + ii, y=-3.9, s="95%: " + str(diffrow[1:]), fontsize=10)

if saveplots:
    plt.savefig(os.path.join(outFigPath, "PtAAttDabestBase.svg"),
                format='svg', bbox_inches='tight')
dataMD;



# calculate and display Cohen's d
dataloadBL.cohens_d.statistical_tests






# select subset of data for analysis and sort
data = dataBySubjTestA
data = data[data['UASLAeq'] != "No UAS"]
data = data.loc[:, ['ID#', 'StimFile', 'UASLAeq', 'Home_Area', 'Annoyance']]



# assign data for processing
dataloadBL = dabest.load(data=data, idx=['Urban', 'Suburban', 'Rural'],
                         x='Home_Area', y='Annoyance', resamples=5000, random_seed=80842)



# calculate baseline paired effect sizes and plot
fig, ax = plt.subplots(figsize=(7, 3.5))
dataMD = dataloadBL.mean_diff.plot(swarm_ylim=(0, 10),
                                   raw_marker_size=0.005,
                                   swarmplot_kwargs={'alpha': 0.3},
                                   contrast_show_deltas=False,
                                   contrast_show_es=True, es_sf=3,
                                   custom_palette={'Suburban': mycolours[0],
                                                   'Rural': mycolours[1],
                                                   'Urban': mycolours[3]},
                                   swarm_desat=1,
                                   halfviolin_desat=1,
                                   bar_desat=1,
                                   es_marker_size=4,
                                   contrast_ylim=(-2, 2),
                                   ax=ax,
                                   )

diffs = np.round(dataloadBL.mean_diff.statistical_tests[['difference', 'bca_low', 'bca_high']].values, 3)
# label results
for ii, diffrow in enumerate(diffs):
    #ax.text(x=0.8 + ii, y=-10.9, s=" " + str(diffrow[0]), fontsize=10)
    ax.text(x=0.7 + ii, y=-3.9, s="95%: " + str(diffrow[1:]), fontsize=10)

if saveplots:
    plt.savefig(os.path.join(outFigPath, "PtAAORDabestBase.svg"),
                format='svg', bbox_inches='tight')
dataMD;



# calculate and display Cohen's d
dataloadBL.cohens_d.statistical_tests






# select subset of data for analysis and sort
data = dataBySubjTestB
data = data[data['UASLAeq'] != "No UAS"]
data['UASEvents'] = data['UASEvents'].astype(int).astype(str)
data = data.loc[:, ['ID#', 'StimFile', 'UASEvents', 'UASLAeq', 'UASType', 'Annoyance']]
data.sort_values(by=['ID#', 'UASType', 'UASLAeq', 'UASEvents'], inplace=True)

dataLo = data.loc[data['UASLAeq'] == "54", :]
dataHi = data.loc[data['UASLAeq'] == "60", :]
dataLoH520 = data.loc[(data['UASType'] == "H520") & (data['UASLAeq'] == "54"), :]
dataLoT150 = data.loc[(data['UASType'] == "T150") & (data['UASLAeq'] == "54"), :]
dataHiH520 = data.loc[(data['UASType'] == "H520") & (data['UASLAeq'] == "60"), :]
dataHiT150 = data.loc[(data['UASType'] == "T150") & (data['UASLAeq'] == "60"), :]

# create dummy pairing IDs
for dataset in [data, dataLo, dataHi, dataLoH520, dataLoT150, dataHiH520, dataHiT150]:
    dataset['dummyID'] = np.repeat(np.arange(1, len(dataset['ID#'])//len(dataset['UASEvents'].unique()) + 1, dtype=int), len(dataset['UASEvents'].unique()), axis=0)



# assign data for processing
dataloadBL = dabest.load(data=data, idx=data['UASEvents'].unique(),
                         x='UASEvents', y='Annoyance', paired='baseline',
                         id_col='dummyID', resamples=5000, random_seed=888)
dataloadSQ = dabest.load(data=data, idx=data['UASEvents'].unique(),
                         x='UASEvents', y='Annoyance', paired='sequential',
                         id_col='dummyID', resamples=5000, random_seed=456)

dataLoloadBL = dabest.load(data=dataLo, idx=dataLo['UASEvents'].unique(),
                           x='UASEvents', y='Annoyance', paired='baseline',
                           id_col='dummyID', resamples=5000, random_seed=4373)
dataLoloadSQ = dabest.load(data=dataLo, idx=dataLo['UASEvents'].unique(),
                           x='UASEvents', y='Annoyance', paired='sequential',
                           id_col='dummyID', resamples=5000, random_seed=714)

dataHiloadBL = dabest.load(data=dataHi, idx=dataHi['UASEvents'].unique(),
                           x='UASEvents', y='Annoyance', paired='baseline',
                           id_col='dummyID', resamples=5000, random_seed=238)
dataHiloadSQ = dabest.load(data=dataHi, idx=dataHi['UASEvents'].unique(),
                           x='UASEvents', y='Annoyance', paired='sequential',
                           id_col='dummyID', resamples=5000, random_seed=99595)

dataLoH520loadBL = dabest.load(data=dataLoH520, idx=dataLoH520['UASEvents'].unique(),
                               x='UASEvents', y='Annoyance', paired='baseline',
                               id_col='dummyID', resamples=5000, random_seed=545)
dataLoH520loadSQ = dabest.load(data=dataLoH520, idx=dataLoH520['UASEvents'].unique(),
                               x='UASEvents', y='Annoyance', paired='sequential',
                               id_col='dummyID', resamples=5000, random_seed=15619)

dataHiH520loadBL = dabest.load(data=dataHiH520, idx=dataHiH520['UASEvents'].unique(),
                               x='UASEvents', y='Annoyance', paired='baseline',
                               id_col='dummyID', resamples=5000, random_seed=2032)
dataHiH520loadSQ = dabest.load(data=dataHiH520, idx=dataHiH520['UASEvents'].unique(),
                               x='UASEvents', y='Annoyance', paired='sequential',
                               id_col='dummyID', resamples=5000, random_seed=503)

dataLoT150loadBL = dabest.load(data=dataLoT150, idx=dataLoT150['UASEvents'].unique(),
                               x='UASEvents', y='Annoyance', paired='baseline',
                               id_col='dummyID', resamples=5000, random_seed=981)
dataLoT150loadSQ = dabest.load(data=dataLoT150, idx=dataLoT150['UASEvents'].unique(),
                               x='UASEvents', y='Annoyance', paired='sequential',
                               id_col='dummyID', resamples=5000, random_seed=4025498)

dataHiT150loadBL = dabest.load(data=dataHiT150, idx=dataHiT150['UASEvents'].unique(),
                               x='UASEvents', y='Annoyance', paired='baseline',
                               id_col='dummyID', resamples=5000, random_seed=959595)
dataHiT150loadSQ = dabest.load(data=dataHiT150, idx=dataHiT150['UASEvents'].unique(),
                               x='UASEvents', y='Annoyance', paired='sequential',
                               id_col='dummyID', resamples=5000, random_seed=117)


# calculate baseline paired effect sizes and plot
fig, ax = plt.subplots(figsize=(7, 3.5))
dataMD = dataloadBL.mean_diff.plot(swarm_ylim=(0, 10), color_col='UASLAeq',
                                   contrast_show_deltas=False, slopegraph_kwargs={'linewidth': 0.25, 'alpha': 0.4},
                                   contrast_show_es=True, es_sf=3,
                                   custom_palette=mycolours[1:3], es_marker_size=4, contrast_ylim=(0, 2.5),
                                   legend_kwargs={'loc': 'lower center'}, ax=ax)

diffs = np.round(dataloadBL.mean_diff.statistical_tests[['difference', 'bca_low', 'bca_high']].values, 3)
# label results
for ii, diffrow in enumerate(diffs):
    #ax.text(x=0.8 + ii, y=-10.9, s=" " + str(diffrow[0]), fontsize=10)
    ax.text(x=0.7 + ii, y=-3.9, s="95%: " + str(diffrow[1:]), fontsize=10)

if saveplots:
    plt.savefig(os.path.join(outFigPath, "PtBDabestBase.svg"),
                format='svg', bbox_inches='tight')
dataMD;



# calculate and display Cohen's d
dataloadBL.cohens_d.statistical_tests



# calculate sequential paired effect sizes and plot
fig, ax = plt.subplots(figsize=(7, 3.5))
dataMD = dataloadSQ.mean_diff.plot(swarm_ylim=(0, 10), color_col='UASLAeq',
                                   contrast_show_deltas=False, slopegraph_kwargs={'linewidth': 0.25, 'alpha': 0.4},
                                   contrast_show_es=True, es_sf=3,
                                   custom_palette=mycolours[1:3], es_marker_size=4, contrast_ylim=(-0.5, 2),
                                   legend_kwargs={'loc': 'lower center'}, ax=ax)

diffs = np.round(dataloadSQ.mean_diff.statistical_tests[['difference', 'bca_low', 'bca_high']].values, 3)
# label results
for ii, diffrow in enumerate(diffs):
    #ax.text(x=0.8 + ii, y=-10.9, s=" " + str(diffrow[0]), fontsize=10)
    ax.text(x=0.7 + ii, y=-3.9, s="95%: " + str(diffrow[1:]), fontsize=10)
    
if saveplots:
    plt.savefig(os.path.join(outFigPath, "PtBDabestSeq.svg"),
                format='svg', bbox_inches='tight')
dataMD;



# calculate and display Cohen's d
dataloadSQ.cohens_d.statistical_tests






# calculate baseline paired effect sizes and plot
fig, ax = plt.subplots(figsize=(7, 3.5))
dataLoMD = dataLoloadBL.mean_diff.plot(swarm_ylim=(0, 10), color_col='UASLAeq',
                                       contrast_show_deltas=False, slopegraph_kwargs={'linewidth': 0.25, 'alpha': 0.4},
                                       contrast_show_es=True, es_sf=3,
                                       custom_palette=mycolours[1:], es_marker_size=4, contrast_ylim=(-0.5, 2),
                                       legend_kwargs={'loc': 'lower center'}, ax=ax)
diffs = np.round(dataLoloadBL.mean_diff.statistical_tests[['difference', 'bca_low', 'bca_high']].values, 3)
# label results
for ii, diffrow in enumerate(diffs):
    #ax.text(x=0.8 + ii, y=-10.9, s=" " + str(diffrow[0]), fontsize=10)
    ax.text(x=0.7 + ii, y=-11.9, s="95%: " + str(diffrow[1:]), fontsize=10)

if saveplots:
    plt.savefig(os.path.join(outFigPath, "PtB54DabestBase.svg"),
                format='svg', bbox_inches='tight')
dataLoMD;



# calculate and display Cohen's d
dataLoloadBL.cohens_d.statistical_tests



# calculate sequential paired effect sizes and plot
fig, ax = plt.subplots(figsize=(7, 3.5))
dataLoMD = dataLoloadSQ.mean_diff.plot(swarm_ylim=(0, 10), color_col='UASLAeq',
                                       contrast_show_deltas=False, slopegraph_kwargs={'linewidth': 0.25, 'alpha': 0.4},
                                       contrast_show_es=True, es_sf=3,
                                       custom_palette=mycolours[1:], es_marker_size=4, contrast_ylim=(-1, 2),
                                       legend_kwargs={'loc': 'lower center'}, ax=ax)

diffs = np.round(dataLoloadSQ.mean_diff.statistical_tests[['difference', 'bca_low', 'bca_high']].values, 3)
# label results
for ii, diffrow in enumerate(diffs):
    #ax.text(x=0.8 + ii, y=-10.9, s=" " + str(diffrow[0]), fontsize=10)
    ax.text(x=0.7 + ii, y=-3.9, s="95%: " + str(diffrow[1:]), fontsize=10)
    
if saveplots:
    plt.savefig(os.path.join(outFigPath, "PtB54DabestSeq.svg"),
                format='svg', bbox_inches='tight')
dataLoMD;



# calculate and display Cohen's d
dataLoloadSQ.cohens_d.statistical_tests






# calculate baseline paired effect sizes and plot
fig, ax = plt.subplots(figsize=(7, 3.5))
dataHiMD = dataHiloadBL.mean_diff.plot(swarm_ylim=(0, 10), color_col='UASLAeq',
                                       contrast_show_deltas=False, slopegraph_kwargs={'linewidth': 0.25, 'alpha': 0.4},
                                       contrast_show_es=True, es_sf=3,
                                       custom_palette=mycolours[2:], es_marker_size=4, contrast_ylim=(0, 3),
                                       legend_kwargs={'loc': 'lower center'}, ax=ax)

diffs = np.round(dataHiloadBL.mean_diff.statistical_tests[['difference', 'bca_low', 'bca_high']].values, 3)
# label results
for ii, diffrow in enumerate(diffs):
    #ax.text(x=0.8 + ii, y=-10.9, s=" " + str(diffrow[0]), fontsize=10)
    if ii == 2:
        ax.text(x=0.7 + ii, y=-11.9, s="95%: " + str(diffrow[1:]), fontsize=10)
    else:
        ax.text(x=0.7 + ii, y=-3.9, s="95%: " + str(diffrow[1:]), fontsize=10)
    
if saveplots:
    plt.savefig(os.path.join(outFigPath, "PtB60DabestBase.svg"),
                format='svg', bbox_inches='tight')
dataHiMD;



# calculate and display Cohen's d
dataHiloadBL.cohens_d.statistical_tests



# calculate sequential paired effect sizes and plot
fig, ax = plt.subplots(figsize=(7, 3.5))
dataHiMD = dataHiloadSQ.mean_diff.plot(swarm_ylim=(0, 10), color_col='UASLAeq',
                                       contrast_show_deltas=False, slopegraph_kwargs={'linewidth': 0.25, 'alpha': 0.4},
                                       contrast_show_es=True, es_sf=3,
                                       custom_palette=mycolours[2:], es_marker_size=4, contrast_ylim=(-0.5, 2),
                                       legend_kwargs={'loc': 'lower center'}, ax=ax)


diffs = np.round(dataHiloadSQ.mean_diff.statistical_tests[['difference', 'bca_low', 'bca_high']].values, 3)
# label results
for ii, diffrow in enumerate(diffs):
    #ax.text(x=0.8 + ii, y=-10.9, s=" " + str(diffrow[0]), fontsize=10)
    if ii == 0:
        ax.text(x=0.7 + ii, y=-11.9, s="95%: " + str(diffrow[1:]), fontsize=10)
    else:
        ax.text(x=0.7 + ii, y=-3.9, s="95%: " + str(diffrow[1:]), fontsize=10)
    
if saveplots:
    plt.savefig(os.path.join(outFigPath, "PtB60DabestSeq.svg"),
                format='svg', bbox_inches='tight')
dataHiMD;



# calculate and display Cohen's d
dataHiloadSQ.cohens_d.statistical_tests






# calculate baseline paired effect sizes and plot
fig, ax = plt.subplots(figsize=(7, 3.5))
dataLoH520MD = dataLoH520loadBL.mean_diff.plot(swarm_ylim=(0, 10), color_col='UASLAeq',
                                               contrast_show_deltas=False, slopegraph_kwargs={'linewidth': 0.25, 'alpha': 0.4},
                                               contrast_show_es=True, es_sf=3,
                                               custom_palette=mycolours[1:], es_marker_size=4, contrast_ylim=(-1, 2.5),
                                               legend_kwargs={'loc': 'lower center', 'title': "H520"}, ax=ax)
diffs = np.round(dataLoH520loadBL.mean_diff.statistical_tests[['difference', 'bca_low', 'bca_high']].values, 3)
# label results
for ii, diffrow in enumerate(diffs):
    #ax.text(x=0.8 + ii, y=-10.9, s=" " + str(diffrow[0]), fontsize=10)
    ax.text(x=0.7 + ii, y=-11.9, s="95%: " + str(diffrow[1:]), fontsize=10)

if saveplots:
    plt.savefig(os.path.join(outFigPath, "PtB54H520DabestBase.svg"),
                format='svg', bbox_inches='tight')
dataLoH520MD;



# calculate and display Cohen's d
dataLoH520loadBL.cohens_d.statistical_tests



# calculate sequential paired effect sizes and plot
fig, ax = plt.subplots(figsize=(7, 3.5))
dataLoH520MD = dataLoH520loadSQ.mean_diff.plot(swarm_ylim=(0, 10), color_col='UASLAeq',
                                               contrast_show_deltas=False, slopegraph_kwargs={'linewidth': 0.25, 'alpha': 0.4},
                                               contrast_show_es=True, es_sf=3,
                                               custom_palette=mycolours[1:], es_marker_size=4, contrast_ylim=(-1, 2.5),
                                               legend_kwargs={'loc': 'lower center', 'title': "H520"}, ax=ax)

diffs = np.round(dataLoH520loadSQ.mean_diff.statistical_tests[['difference', 'bca_low', 'bca_high']].values, 3)
# label results
for ii, diffrow in enumerate(diffs):
    #ax.text(x=0.8 + ii, y=-10.9, s=" " + str(diffrow[0]), fontsize=10)
    ax.text(x=0.7 + ii, y=-3.9, s="95%: " + str(diffrow[1:]), fontsize=10)
    
if saveplots:
    plt.savefig(os.path.join(outFigPath, "PtB54H520DabestSeq.svg"),
                format='svg', bbox_inches='tight')
dataLoH520MD;



# calculate and display Cohen's d
dataLoH520loadSQ.cohens_d.statistical_tests






# calculate baseline paired effect sizes and plot
fig, ax = plt.subplots(figsize=(7, 3.5))
dataHiH520MD = dataHiH520loadBL.mean_diff.plot(swarm_ylim=(0, 10), color_col='UASLAeq',
                                               contrast_show_deltas=False, slopegraph_kwargs={'linewidth': 0.25, 'alpha': 0.4},
                                               contrast_show_es=True, es_sf=3,
                                               custom_palette=mycolours[2:], es_marker_size=4, contrast_ylim=(-1, 3),
                                               legend_kwargs={'loc': 'lower center', 'title': "H520"}, ax=ax)

diffs = np.round(dataHiH520loadBL.mean_diff.statistical_tests[['difference', 'bca_low', 'bca_high']].values, 3)
# label results
for ii, diffrow in enumerate(diffs):
    #ax.text(x=0.8 + ii, y=-10.9, s=" " + str(diffrow[0]), fontsize=10)
    if ii == 2:
        ax.text(x=0.7 + ii, y=-11.9, s="95%: " + str(diffrow[1:]), fontsize=10)
    else:
        ax.text(x=0.7 + ii, y=-3.9, s="95%: " + str(diffrow[1:]), fontsize=10)
    
if saveplots:
    plt.savefig(os.path.join(outFigPath, "PtB60H520DabestBase.svg"),
                format='svg', bbox_inches='tight')
dataHiH520MD;



# calculate and display Cohen's d
dataHiH520loadBL.cohens_d.statistical_tests



# calculate sequential paired effect sizes and plot
fig, ax = plt.subplots(figsize=(7, 3.5))
dataHiH520MD = dataHiH520loadSQ.mean_diff.plot(swarm_ylim=(0, 10), color_col='UASLAeq',
                                               contrast_show_deltas=False, slopegraph_kwargs={'linewidth': 0.25, 'alpha': 0.4},
                                               contrast_show_es=True, es_sf=3,
                                               custom_palette=mycolours[2:], es_marker_size=4, contrast_ylim=(-1, 2.5),
                                               legend_kwargs={'loc': 'lower center', 'title': "H520"}, ax=ax)


diffs = np.round(dataHiH520loadSQ.mean_diff.statistical_tests[['difference', 'bca_low', 'bca_high']].values, 3)
# label results
for ii, diffrow in enumerate(diffs):
    #ax.text(x=0.8 + ii, y=-10.9, s=" " + str(diffrow[0]), fontsize=10)
    if ii == 0:
        ax.text(x=0.7 + ii, y=-11.9, s="95%: " + str(diffrow[1:]), fontsize=10)
    else:
        ax.text(x=0.7 + ii, y=-3.9, s="95%: " + str(diffrow[1:]), fontsize=10)
    
if saveplots:
    plt.savefig(os.path.join(outFigPath, "PtB60H520DabestSeq.svg"),
                format='svg', bbox_inches='tight')
dataHiH520MD;



# calculate and display Cohen's d
dataHiH520loadSQ.cohens_d.statistical_tests






# calculate baseline paired effect sizes and plot
fig, ax = plt.subplots(figsize=(7, 3.5))
dataLoT150MD = dataLoT150loadBL.mean_diff.plot(swarm_ylim=(0, 10), color_col='UASLAeq',
                                               contrast_show_deltas=False, slopegraph_kwargs={'linewidth': 0.25, 'alpha': 0.4},
                                               contrast_show_es=True, es_sf=3,
                                               custom_palette=mycolours[1:], es_marker_size=4, contrast_ylim=(-1, 2.5),
                                               legend_kwargs={'loc': 'lower center', 'title': "T150"}, ax=ax)
diffs = np.round(dataLoT150loadBL.mean_diff.statistical_tests[['difference', 'bca_low', 'bca_high']].values, 3)
# label results
for ii, diffrow in enumerate(diffs):
    #ax.text(x=0.8 + ii, y=-10.9, s=" " + str(diffrow[0]), fontsize=10)
    ax.text(x=0.7 + ii, y=-11.9, s="95%: " + str(diffrow[1:]), fontsize=10)

if saveplots:
    plt.savefig(os.path.join(outFigPath, "PtB54T150DabestBase.svg"),
                format='svg', bbox_inches='tight')
dataLoT150MD;



# calculate and display Cohen's d
dataLoT150loadBL.cohens_d.statistical_tests



# calculate sequential paired effect sizes and plot
fig, ax = plt.subplots(figsize=(7, 3.5))
dataLoT150MD = dataLoT150loadSQ.mean_diff.plot(swarm_ylim=(0, 10), color_col='UASLAeq',
                                               contrast_show_deltas=False, slopegraph_kwargs={'linewidth': 0.25, 'alpha': 0.4},
                                               contrast_show_es=True, es_sf=3,
                                               custom_palette=mycolours[1:], es_marker_size=4, contrast_ylim=(-1, 2.5),
                                               legend_kwargs={'loc': 'lower center', 'title': "T150"}, ax=ax)

diffs = np.round(dataLoT150loadSQ.mean_diff.statistical_tests[['difference', 'bca_low', 'bca_high']].values, 3)
# label results
for ii, diffrow in enumerate(diffs):
    if ii == 0:
        ax.text(x=0.7 + ii, y=-11.9, s="95%: " + str(diffrow[1:]), fontsize=10)
    else:
        ax.text(x=0.7 + ii, y=-3.9, s="95%: " + str(diffrow[1:]), fontsize=10)
    
if saveplots:
    plt.savefig(os.path.join(outFigPath, "PtB54T150DabestSeq.svg"),
                format='svg', bbox_inches='tight')
dataLoT150MD;



# calculate and display Cohen's d
dataLoT150loadSQ.cohens_d.statistical_tests






# calculate baseline paired effect sizes and plot
fig, ax = plt.subplots(figsize=(7, 3.5))
dataHiT150MD = dataHiT150loadBL.mean_diff.plot(swarm_ylim=(0, 10), color_col='UASLAeq',
                                               contrast_show_deltas=False, slopegraph_kwargs={'linewidth': 0.25, 'alpha': 0.4},
                                               contrast_show_es=True, es_sf=3,
                                               custom_palette=mycolours[2:], es_marker_size=4, contrast_ylim=(0, 3.5),
                                               legend_kwargs={'loc': 'lower center', 'title': "T150"}, ax=ax)

diffs = np.round(dataHiT150loadBL.mean_diff.statistical_tests[['difference', 'bca_low', 'bca_high']].values, 3)
# label results
for ii, diffrow in enumerate(diffs):
    #ax.text(x=0.8 + ii, y=-10.9, s=" " + str(diffrow[0]), fontsize=10)
    ax.text(x=0.7 + ii, y=-3.9, s="95%: " + str(diffrow[1:]), fontsize=10)
    
if saveplots:
    plt.savefig(os.path.join(outFigPath, "PtB60T150DabestBase.svg"),
                format='svg', bbox_inches='tight')
dataHiT150MD;



# calculate and display Cohen's d
dataHiT150loadBL.cohens_d.statistical_tests



# calculate sequential paired effect sizes and plot
fig, ax = plt.subplots(figsize=(7, 3.5))
dataHiT150MD = dataHiT150loadSQ.mean_diff.plot(swarm_ylim=(0, 10), color_col='UASLAeq',
                                               contrast_show_deltas=False, slopegraph_kwargs={'linewidth': 0.25, 'alpha': 0.4},
                                               contrast_show_es=True, es_sf=3,
                                               custom_palette=mycolours[2:], es_marker_size=4, contrast_ylim=(-1, 2.5),
                                               legend_kwargs={'loc': 'lower center', 'title': "T150"}, ax=ax)


diffs = np.round(dataHiT150loadSQ.mean_diff.statistical_tests[['difference', 'bca_low', 'bca_high']].values, 3)
# label results
for ii, diffrow in enumerate(diffs):
    #ax.text(x=0.8 + ii, y=-10.9, s=" " + str(diffrow[0]), fontsize=10)
    if ii == 0:
        ax.text(x=0.7 + ii, y=-11.9, s="95%: " + str(diffrow[1:]), fontsize=10)
    else:
        ax.text(x=0.7 + ii, y=-3.9, s="95%: " + str(diffrow[1:]), fontsize=10)
    
if saveplots:
    plt.savefig(os.path.join(outFigPath, "PtB60T150DabestSeq.svg"),
                format='svg', bbox_inches='tight')
dataHiT150MD;



# calculate and display Cohen's d
dataHiT150loadSQ.cohens_d.statistical_tests






# select subset of data for analysis and sort
data = dataBySubjTestB
data = data[data['UASLAeq'] != "No UAS"]
data = data.loc[:, ['ID#', 'StimFile', 'UASLAeq', 'AAM_attitude', 'Annoyance']]

# separate by level
dataLo = data.loc[data['UASLAeq'] == "54", :]
dataHi = data.loc[data['UASLAeq'] == "60", :]



# assign data for processing
dataloadBL = dabest.load(data=data, idx=['Supportive', 'Ambivalent', 'Concerned', 'Neutral'],
                         x='AAM_attitude', y='Annoyance', resamples=5000, random_seed=24624)

dataLoloadBL = dabest.load(data=dataLo, idx=['Supportive', 'Ambivalent', 'Concerned', 'Neutral'],
                           x='AAM_attitude', y='Annoyance', resamples=5000, random_seed=8478)

dataHiloadBL = dabest.load(data=dataHi, idx=['Supportive', 'Ambivalent', 'Concerned', 'Neutral'],
                           x='AAM_attitude', y='Annoyance', resamples=5000, random_seed=13)



# calculate baseline paired effect sizes and plot
fig, ax = plt.subplots(figsize=(7, 3.5))
dataMD = dataloadBL.mean_diff.plot(swarm_ylim=(0, 10),
                                   raw_marker_size=0.1,
                                   swarmplot_kwargs={'alpha': 0.3},
                                   contrast_show_deltas=False,
                                   contrast_show_es=True, es_sf=3,
                                   custom_palette={'Neutral': mycolours[0],
                                                   'Ambivalent': mycolours[1],
                                                   'Concerned': mycolours[2],
                                                   'Supportive': mycolours[3]},
                                   swarm_desat=1,
                                   halfviolin_desat=1,
                                   bar_desat=1,
                                   es_marker_size=4,
                                   contrast_ylim=(-1, 4),
                                   ax=ax,
                                   )

diffs = np.round(dataloadBL.mean_diff.statistical_tests[['difference', 'bca_low', 'bca_high']].values, 3)
# label results
for ii, diffrow in enumerate(diffs):
    #ax.text(x=0.8 + ii, y=-10.9, s=" " + str(diffrow[0]), fontsize=10)
    ax.text(x=0.7 + ii, y=-3.9, s="95%: " + str(diffrow[1:]), fontsize=10)

if saveplots:
    plt.savefig(os.path.join(outFigPath, "PtBAttDabestBase.svg"),
                format='svg', bbox_inches='tight')
dataMD;



# calculate and display Cohen's d
dataloadBL.cohens_d.statistical_tests



# calculate baseline paired effect sizes and plot
fig, ax = plt.subplots(figsize=(7, 3.5))
dataLoMD = dataLoloadBL.mean_diff.plot(swarm_ylim=(0, 10),
                                       raw_marker_size=0.1,
                                       swarmplot_kwargs={'alpha': 0.3},
                                       contrast_show_deltas=False,
                                       contrast_show_es=True, es_sf=3,
                                       custom_palette={'Neutral': mycolours[0],
                                                       'Ambivalent': mycolours[1],
                                                       'Concerned': mycolours[2],
                                                       'Supportive': mycolours[3]},
                                       swarm_desat=1,
                                       halfviolin_desat=1,
                                       bar_desat=1,
                                       es_marker_size=4,
                                       contrast_ylim=(-1, 4),
                                       ax=ax,
                                       )

diffs = np.round(dataLoloadBL.mean_diff.statistical_tests[['difference', 'bca_low', 'bca_high']].values, 3)
# label results
for ii, diffrow in enumerate(diffs):
    #ax.text(x=0.8 + ii, y=-10.9, s=" " + str(diffrow[0]), fontsize=10)
    ax.text(x=0.7 + ii, y=-3.9, s="95%: " + str(diffrow[1:]), fontsize=10)

if saveplots:
    plt.savefig(os.path.join(outFigPath, "PtB54AttDabestBase.svg"),
                format='svg', bbox_inches='tight')
dataLoMD;



# calculate and display Cohen's d
dataLoloadBL.cohens_d.statistical_tests



# calculate baseline paired effect sizes and plot
fig, ax = plt.subplots(figsize=(7, 3.5))
dataHiMD = dataHiloadBL.mean_diff.plot(swarm_ylim=(0, 10),
                                       raw_marker_size=0.1,
                                       swarmplot_kwargs={'alpha': 0.3},
                                       contrast_show_deltas=False,
                                       contrast_show_es=True, es_sf=3,
                                       custom_palette={'Neutral': mycolours[0],
                                                       'Ambivalent': mycolours[1],
                                                       'Concerned': mycolours[2],
                                                       'Supportive': mycolours[3]},
                                       swarm_desat=1,
                                       halfviolin_desat=1,
                                       bar_desat=1,
                                       es_marker_size=4,
                                       contrast_ylim=(-1, 4),
                                       ax=ax,
                                       )

diffs = np.round(dataHiloadBL.mean_diff.statistical_tests[['difference', 'bca_low', 'bca_high']].values, 3)
# label results
for ii, diffrow in enumerate(diffs):
    #ax.text(x=0.8 + ii, y=-10.9, s=" " + str(diffrow[0]), fontsize=10)
    ax.text(x=0.7 + ii, y=-3.9, s="95%: " + str(diffrow[1:]), fontsize=10)

if saveplots:
    plt.savefig(os.path.join(outFigPath, "PtB60AttDabestBase.svg"),
                format='svg', bbox_inches='tight')
dataHiMD;



# calculate and display Cohen's d
dataHiloadBL.cohens_d.statistical_tests






# select subset of data for analysis and sort
data = dataBySubjTestB
data = data[data['UASLAeq'] != "No UAS"]
data = data.loc[:, ['ID#', 'StimFile', 'UASLAeq', 'Home_Area', 'Annoyance']]



# assign data for processing
dataloadBL = dabest.load(data=data, idx=['Urban', 'Suburban', 'Rural'],
                         x='Home_Area', y='Annoyance', resamples=5000, random_seed=24624)



# calculate baseline paired effect sizes and plot
fig, ax = plt.subplots(figsize=(7, 3.5))
dataMD = dataloadBL.mean_diff.plot(swarm_ylim=(0, 10),
                                   raw_marker_size=0.05,
                                   swarmplot_kwargs={'alpha': 0.3},
                                   contrast_show_deltas=False,
                                   contrast_show_es=True, es_sf=3,
                                   custom_palette={'Suburban': mycolours[0],
                                                   'Rural': mycolours[1],
                                                   'Urban': mycolours[3]},
                                   swarm_desat=1,
                                   halfviolin_desat=1,
                                   bar_desat=1,
                                   es_marker_size=4,
                                   contrast_ylim=(0, 4),
                                   ax=ax,
                                   )

diffs = np.round(dataloadBL.mean_diff.statistical_tests[['difference', 'bca_low', 'bca_high']].values, 3)
# label results
for ii, diffrow in enumerate(diffs):
    #ax.text(x=0.8 + ii, y=-10.9, s=" " + str(diffrow[0]), fontsize=10)
    ax.text(x=0.7 + ii, y=-3.9, s="95%: " + str(diffrow[1:]), fontsize=10)

if saveplots:
    plt.savefig(os.path.join(outFigPath, "PtBAORDabestBase.svg"),
                format='svg', bbox_inches='tight')
dataMD;



# calculate and display Cohen's d
dataloadBL.cohens_d.statistical_tests






# select subset of data for analysis and sort
data = dataBySubjTest
data = data[data['UASLAeq'] != "No UAS"]
data = data.loc[:, ['ID#', 'StimFile', 'AAM_attitude', 'Annoyance']]



# assign data for processing
dataloadBL = dabest.load(data=data, idx=['Supportive', 'Ambivalent', 'Concerned', 'Neutral'],
                         x='AAM_attitude', y='Annoyance', resamples=5000, random_seed=3487)



# calculate baseline paired effect sizes and plot
fig, ax = plt.subplots(figsize=(7, 3.5))
dataMD = dataloadBL.mean_diff.plot(swarm_ylim=(0, 10),
                                   raw_marker_size=0.005,
                                   swarmplot_kwargs={'alpha': 0.3},
                                   contrast_show_deltas=False,
                                   contrast_show_es=True, es_sf=3,
                                   custom_palette={'Neutral': mycolours[0],
                                                   'Ambivalent': mycolours[1],
                                                   'Concerned': mycolours[2],
                                                   'Supportive': mycolours[3]},
                                   swarm_desat=1,
                                   halfviolin_desat=1,
                                   bar_desat=1,
                                   es_marker_size=4,
                                   contrast_ylim=(-1, 3),
                                   ax=ax,
                                   )

diffs = np.round(dataloadBL.mean_diff.statistical_tests[['difference', 'bca_low', 'bca_high']].values, 3)
# label results
for ii, diffrow in enumerate(diffs):
    #ax.text(x=0.8 + ii, y=-10.9, s=" " + str(diffrow[0]), fontsize=10)
    ax.text(x=0.7 + ii, y=-3.9, s="95%: " + str(diffrow[1:]), fontsize=10)

if saveplots:
    plt.savefig(os.path.join(outFigPath, "PtsABAttDabestBase.svg"),
                format='svg', bbox_inches='tight')
dataMD;



# calculate and display Cohen's d
dataloadBL.cohens_d.statistical_tests






# select subset of data for analysis and sort
data = dataBySubjTest
data = data[data['UASLAeq'] != "No UAS"]
data = data.loc[:, ['ID#', 'StimFile', 'UASLAeq', 'Home_Area', 'Annoyance']]



# assign data for processing
dataloadBL = dabest.load(data=data, idx=['Urban', 'Suburban', 'Rural'],
                         x='Home_Area', y='Annoyance', resamples=5000, random_seed=931)



# calculate baseline paired effect sizes and plot
fig, ax = plt.subplots(figsize=(7, 3.5))
dataMD = dataloadBL.mean_diff.plot(swarm_ylim=(0, 10),
                                   raw_marker_size=0.001,
                                   swarmplot_kwargs={'alpha': 0.3},
                                   contrast_show_deltas=False,
                                   contrast_show_es=True, es_sf=3,
                                   custom_palette={'Suburban': mycolours[0],
                                                   'Rural': mycolours[1],
                                                   'Urban': mycolours[3]},
                                   swarm_desat=1,
                                   halfviolin_desat=1,
                                   bar_desat=1,
                                   es_marker_size=4,
                                   contrast_ylim=(-2, 2),
                                   ax=ax,
                                   )

diffs = np.round(dataloadBL.mean_diff.statistical_tests[['difference', 'bca_low', 'bca_high']].values, 3)
# label results
for ii, diffrow in enumerate(diffs):
    #ax.text(x=0.8 + ii, y=-10.9, s=" " + str(diffrow[0]), fontsize=10)
    ax.text(x=0.7 + ii, y=-3.9, s="95%: " + str(diffrow[1:]), fontsize=10)

if saveplots:
    plt.savefig(os.path.join(outFigPath, "PtsABAORDabestBase.svg"),
                format='svg', bbox_inches='tight')
dataMD;



# calculate and display Cohen's d
dataloadBL.cohens_d.statistical_tests






dataDNoiseWide = pd.read_csv(r"C:\Users\m_lot\OneDrive - University of Salford\REFMAP General\03 Experiment\Experiment 1\Analysis\Comparison_data\DroneNoise2022AnnoyWide.csv")

dataDNoiseLong = dataDNoiseWide.melt(id_vars='ID', var_name='StimFile', value_name='Annoyance')
dataDNoiseLong.head()


dataDNoiseLong['UASOperation'] = "Flyby"
dataDNoiseLong.loc[dataDNoiseLong['StimFile'].str.contains("Landing"), 'UASOperation'] = "Landing"
dataDNoiseLong.loc[dataDNoiseLong['StimFile'].str.contains("Takeoff"), 'UASOperation'] = "Takeoff"
dataDNoiseLong.loc[dataDNoiseLong['StimFile'].str.contains("Hover"), 'UASOperation'] = "Hover"
dataDNoiseLong['Location'] = "Outdoors"
dataDNoiseLong.loc[dataDNoiseLong['StimFile'].str.contains("Part_Open"), 'Location'] = "Indoors_PO"
dataDNoiseLong.loc[dataDNoiseLong['StimFile'].str.contains("Closed"), 'Location'] = "Indoors_Cl"
dataDNoiseLong['UASType'] = "Typhoon"
dataDNoiseLong.loc[dataDNoiseLong['StimFile'].str.contains("GD28X"), 'UASType'] = "GD28X"
dataDNoiseLong.loc[dataDNoiseLong['StimFile'].str.contains("M200"), 'UASType'] = "M200"


dataDNoiseLong.sort_values(by=['ID', 'Location', 'UASType', 'UASOperation'], inplace=True)
dataDNoiseLong['dummyID'] = np.repeat(np.arange(1, len(dataDNoiseLong['ID'])//len(dataDNoiseLong['UASOperation'].unique()) + 1, dtype=int), len(dataDNoiseLong['UASOperation'].unique()), axis=0)

dataDNoiseloadBL = dabest.load(data=dataDNoiseLong, idx=("Flyby", "Takeoff", "Landing", "Hover"),
                               x='UASOperation', y='Annoyance', paired='baseline',
                               id_col='dummyID', resamples=5000, random_seed=646)

dataDNoiseBL = dataDNoiseloadBL.mean_diff.plot(swarm_ylim=(0, 10), color_col='Location',
                                               contrast_show_deltas=False, slopegraph_kwargs={'linewidth': 0.25, 'alpha': 0.4},
                                               contrast_show_es=True, es_sf=3,
                                               custom_palette=mycolours[2:], es_marker_size=4, contrast_ylim=(0, 2.5),
                                               legend_kwargs={'loc': 'lower center'})



dataDNoiseLong.sort_values(by=['ID', 'UASOperation', 'UASType', 'Location'], inplace=True)
dataDNoiseLong['dummyID'] = np.repeat(np.arange(1, len(dataDNoiseLong['ID'])//len(dataDNoiseLong['Location'].unique()) + 1, dtype=int), len(dataDNoiseLong['Location'].unique()), axis=0)

dataDNoiseloadBL = dabest.load(data=dataDNoiseLong, idx=("Outdoors", "Indoors_PO", "Indoors_Cl"),
                               x='Location', y='Annoyance', paired='baseline',
                               id_col='dummyID', resamples=5000, random_seed=4546)

dataDNoiseBL = dataDNoiseloadBL.mean_diff.plot(swarm_ylim=(0, 10), color_col='UASOperation',
                                               contrast_show_deltas=False, slopegraph_kwargs={'linewidth': 0.25, 'alpha': 0.4},
                                               contrast_show_es=True, es_sf=3,
                                               custom_palette=mycolours[2:], es_marker_size=4, contrast_ylim=(-5, -2),
                                               legend_kwargs={'loc': 'lower center'})

